{
 "cells": [
  {
   "cell_type": "markdown",
   "id": "a883ee19-0ef4-4974-8a21-b194fbbfcdde",
   "metadata": {},
   "source": [
    "# NumPy                          "
   ]
  },
  {
   "cell_type": "markdown",
   "id": "c7eb970b-d4b2-4703-a201-f1bff6770203",
   "metadata": {},
   "source": [
    "### Basics"
   ]
  },
  {
   "cell_type": "markdown",
   "id": "6e23585b-890d-4095-8d9e-73720e9051ea",
   "metadata": {},
   "source": [
    " Numpy (Numerical Python), is one of the most important foundational packages for numerical computing in Python."
   ]
  },
  {
   "cell_type": "markdown",
   "id": "e4605042-d6cb-4f4c-88e4-79b987326c72",
   "metadata": {},
   "source": [
    "1. NumPy is a crucial library in data science, offering essential data structures, computations, and integrations that enable efficient data manipulation, analysis, and machine learning.\n",
    "\n",
    "2. NumPy operations can handle complex computations on entire arrays, eliminating the need for Python for loops.\n",
    "\n",
    "3. NumPy is vital in data science as it forms the basis for data manipulation and computation, allowing data scientists to efficiently and effectively manage large datasets.\n",
    "\n",
    "4. NumPy is a foundational tool in Python-based data science, enabling efficient and powerful numerical data manipulations that are critical for analysis, modeling, and visualization tasks.\n",
    "\n",
    "5. Computations that utilize vectorization."
   ]
  },
  {
   "cell_type": "markdown",
   "id": "9297fc3c-a9f3-4851-8ea1-95118025c6ac",
   "metadata": {},
   "source": [
    "#### Installing and importing numpy library"
   ]
  },
  {
   "cell_type": "code",
   "execution_count": 1,
   "id": "dc440c8d-72f7-4ecd-a116-1a11990bd382",
   "metadata": {},
   "outputs": [
    {
     "name": "stdout",
     "output_type": "stream",
     "text": [
      "Defaulting to user installation because normal site-packages is not writeable\n",
      "Requirement already satisfied: numpy in c:\\programdata\\anaconda3\\lib\\site-packages (1.26.4)\n"
     ]
    }
   ],
   "source": [
    "# installing numpy library\n",
    "!pip install numpy"
   ]
  },
  {
   "cell_type": "markdown",
   "id": "b5e98051-6724-4f6e-aef2-328f8bce5d86",
   "metadata": {},
   "source": [
    "you can install numpy library by using the above piece of code in your jupyter ipynb notebook"
   ]
  },
  {
   "cell_type": "code",
   "execution_count": 2,
   "id": "25b6e4d9-6564-40fd-8d4f-679b11a461fa",
   "metadata": {},
   "outputs": [],
   "source": [
    "import numpy as np"
   ]
  },
  {
   "cell_type": "markdown",
   "id": "f3a5c4b8-2fc9-4499-b1d2-e820601a0e9b",
   "metadata": {},
   "source": [
    "#### Numpy array"
   ]
  },
  {
   "cell_type": "code",
   "execution_count": 3,
   "id": "dc9be48b-128a-4bca-a716-190fa23f8317",
   "metadata": {},
   "outputs": [
    {
     "data": {
      "text/plain": [
       "array([1, 2, 3, 4, 5, 6, 7, 8])"
      ]
     },
     "execution_count": 3,
     "metadata": {},
     "output_type": "execute_result"
    }
   ],
   "source": [
    "arr=np.array([1,2,3,4,5,6,7,8])\n",
    "arr"
   ]
  },
  {
   "cell_type": "code",
   "execution_count": 4,
   "id": "a21b712d-124f-4969-ab52-de8a537676fe",
   "metadata": {},
   "outputs": [
    {
     "data": {
      "text/plain": [
       "dtype('int32')"
      ]
     },
     "execution_count": 4,
     "metadata": {},
     "output_type": "execute_result"
    }
   ],
   "source": [
    "## The data type of an array.\n",
    "arr.dtype"
   ]
  },
  {
   "cell_type": "code",
   "execution_count": 5,
   "id": "f138d802-0c9a-4688-8b67-7992c39adc71",
   "metadata": {},
   "outputs": [
    {
     "data": {
      "text/plain": [
       "array([1., 2., 3., 4., 5., 6., 7., 8.])"
      ]
     },
     "execution_count": 5,
     "metadata": {},
     "output_type": "execute_result"
    }
   ],
   "source": [
    "## change the data type of an array.\n",
    "a=np.array(arr,dtype=np.float64)\n",
    "a"
   ]
  },
  {
   "cell_type": "code",
   "execution_count": 6,
   "id": "9f229e13-be1d-4c65-9d6a-55cbe92ea06f",
   "metadata": {},
   "outputs": [
    {
     "data": {
      "text/plain": [
       "array([ 2,  4,  6,  8, 10, 12, 14, 16])"
      ]
     },
     "execution_count": 6,
     "metadata": {},
     "output_type": "execute_result"
    }
   ],
   "source": [
    "#Element wise operation\n",
    "arr=arr*2\n",
    "arr"
   ]
  },
  {
   "cell_type": "code",
   "execution_count": 7,
   "id": "02ad5ae2-7199-4f3f-b61d-b26e2b728344",
   "metadata": {},
   "outputs": [
    {
     "data": {
      "text/plain": [
       "array([ 2.,  4.,  6.,  8., 10., 12., 14., 16.])"
      ]
     },
     "execution_count": 7,
     "metadata": {},
     "output_type": "execute_result"
    }
   ],
   "source": [
    "## Another function astype() to change the data type of an array.\n",
    "float_arr=arr.astype(np.float64)\n",
    "float_arr"
   ]
  },
  {
   "cell_type": "code",
   "execution_count": 8,
   "id": "5d4fddbc-c226-4a89-a484-1ab5e57c1fa6",
   "metadata": {},
   "outputs": [
    {
     "data": {
      "text/plain": [
       "array([0, 2, 4, 6, 8])"
      ]
     },
     "execution_count": 8,
     "metadata": {},
     "output_type": "execute_result"
    }
   ],
   "source": [
    "## arange() is a function in numpy returns a new array with evenly spaced values with given range.\n",
    "arr1=np.arange(0,10,2)\n",
    "arr1"
   ]
  },
  {
   "cell_type": "code",
   "execution_count": 9,
   "id": "a07900b5-971d-417c-8cbd-73fccb3e5afa",
   "metadata": {},
   "outputs": [
    {
     "data": {
      "text/plain": [
       "array([0, 1, 2, 3, 4, 5, 6, 7, 8, 9])"
      ]
     },
     "execution_count": 9,
     "metadata": {},
     "output_type": "execute_result"
    }
   ],
   "source": [
    "arr1=np.arange(10)\n",
    "arr1"
   ]
  },
  {
   "cell_type": "code",
   "execution_count": 10,
   "id": "2383aaae-bac8-4ab3-9c28-1d14ea19ded4",
   "metadata": {},
   "outputs": [
    {
     "data": {
      "text/plain": [
       "array([[-1.35493066, -0.0236461 , -0.20862808],\n",
       "       [ 0.22493776,  1.84524384, -0.0443058 ]])"
      ]
     },
     "execution_count": 10,
     "metadata": {},
     "output_type": "execute_result"
    }
   ],
   "source": [
    "## Creating random elements\n",
    "arr2=np.random.randn(2,3)\n",
    "arr2"
   ]
  },
  {
   "cell_type": "code",
   "execution_count": 11,
   "id": "88284015-fa01-425e-bf9b-2e7093206118",
   "metadata": {},
   "outputs": [
    {
     "data": {
      "text/plain": [
       "16"
      ]
     },
     "execution_count": 11,
     "metadata": {},
     "output_type": "execute_result"
    }
   ],
   "source": [
    "## Accessing element from numpy array.\n",
    "arr[-1]"
   ]
  },
  {
   "cell_type": "code",
   "execution_count": 12,
   "id": "ef005af5-dc92-42c5-96aa-f24fbbcd5702",
   "metadata": {},
   "outputs": [
    {
     "data": {
      "text/plain": [
       "array([ 2,  4,  6,  8, 10])"
      ]
     },
     "execution_count": 12,
     "metadata": {},
     "output_type": "execute_result"
    }
   ],
   "source": [
    "## Creating a numpy array with evenly spaced values over a specified range.\n",
    "a=np.linspace(2,10,5,dtype='int')\n",
    "a"
   ]
  },
  {
   "cell_type": "code",
   "execution_count": 13,
   "id": "ac61aeb0-6bac-4ee2-a222-dea5d56f3b0f",
   "metadata": {},
   "outputs": [
    {
     "data": {
      "text/plain": [
       "array([1.e+02, 1.e+04, 1.e+06, 1.e+08, 1.e+10])"
      ]
     },
     "execution_count": 13,
     "metadata": {},
     "output_type": "execute_result"
    }
   ],
   "source": [
    "## Creating an numpy array with evenly spaced values on log scale.\n",
    "a1=np.logspace(2,10,5)\n",
    "a1"
   ]
  },
  {
   "cell_type": "markdown",
   "id": "59e6f7a7-8480-4fe6-8ec1-10e3b3daa8d7",
   "metadata": {},
   "source": [
    "linspace: Use when you need evenly spaced numbers between two points on a linear scale."
   ]
  },
  {
   "cell_type": "markdown",
   "id": "1a913cd2-e83b-4a1e-9005-c439b823d334",
   "metadata": {},
   "source": [
    "logspace: Use when you need evenly spaced numbers on a logarithmic scale, ideal for handling ranges that span several orders of magnitude."
   ]
  },
  {
   "cell_type": "markdown",
   "id": "28c35a7b-fcbf-40c2-a7e7-9edd39bdf76a",
   "metadata": {},
   "source": [
    " "
   ]
  },
  {
   "cell_type": "markdown",
   "id": "1cca3054-061f-497a-bd90-480992ed6969",
   "metadata": {},
   "source": [
    "#### Reshaping numpy array\n",
    "you can reshape the array with reshape function"
   ]
  },
  {
   "cell_type": "code",
   "execution_count": 14,
   "id": "59513e57-8aec-4522-be13-69810633d826",
   "metadata": {},
   "outputs": [
    {
     "data": {
      "text/plain": [
       "array([ 2,  4,  6,  8, 10, 12, 14, 16])"
      ]
     },
     "execution_count": 14,
     "metadata": {},
     "output_type": "execute_result"
    }
   ],
   "source": [
    "arr"
   ]
  },
  {
   "cell_type": "code",
   "execution_count": 15,
   "id": "09275a8d-f204-4217-a9d5-f5270edb0c5a",
   "metadata": {},
   "outputs": [
    {
     "data": {
      "text/plain": [
       "array([[ 2,  4],\n",
       "       [ 6,  8],\n",
       "       [10, 12],\n",
       "       [14, 16]])"
      ]
     },
     "execution_count": 15,
     "metadata": {},
     "output_type": "execute_result"
    }
   ],
   "source": [
    "arr=arr.reshape(4,2)\n",
    "arr"
   ]
  },
  {
   "cell_type": "markdown",
   "id": "2f334d75-7a09-47a2-8a1d-f8650ada0024",
   "metadata": {},
   "source": [
    "A `ValueError` occurs when the total number of elements in the array does not match the product of the dimensions in the specified new shape; ensure the new shape exactly fits all elements in the array."
   ]
  },
  {
   "cell_type": "code",
   "execution_count": 16,
   "id": "722af740-5113-42f6-acda-00eb7574edbf",
   "metadata": {},
   "outputs": [
    {
     "ename": "ValueError",
     "evalue": "cannot reshape array of size 8 into shape (3,3)",
     "output_type": "error",
     "traceback": [
      "\u001b[1;31m---------------------------------------------------------------------------\u001b[0m",
      "\u001b[1;31mValueError\u001b[0m                                Traceback (most recent call last)",
      "Cell \u001b[1;32mIn[16], line 1\u001b[0m\n\u001b[1;32m----> 1\u001b[0m arr\u001b[38;5;241m=\u001b[39marr\u001b[38;5;241m.\u001b[39mreshape(\u001b[38;5;241m3\u001b[39m,\u001b[38;5;241m3\u001b[39m)\n\u001b[0;32m      2\u001b[0m arr\n",
      "\u001b[1;31mValueError\u001b[0m: cannot reshape array of size 8 into shape (3,3)"
     ]
    }
   ],
   "source": [
    "arr=arr.reshape(3,3)\n",
    "arr"
   ]
  },
  {
   "cell_type": "markdown",
   "id": "337a1294-3715-438b-8491-da950da352ce",
   "metadata": {},
   "source": [
    "  "
   ]
  },
  {
   "cell_type": "markdown",
   "id": "ae1a4f8d-f372-4d3e-85f7-a15a65b6996e",
   "metadata": {},
   "source": [
    "### Manipulating data using numpy"
   ]
  },
  {
   "cell_type": "code",
   "execution_count": 17,
   "id": "513969af-8f53-48a4-a316-39c1dfa11a95",
   "metadata": {},
   "outputs": [
    {
     "name": "stdout",
     "output_type": "stream",
     "text": [
      "Unique elements:[1 2 3 4 5 6 8 9]\n"
     ]
    }
   ],
   "source": [
    "## UNIQUE ELEMENTS: Find unique elements in an array.\n",
    "\n",
    "arr=np.array([9,3,2,8,9,2,9,4,5,9,2,8,3,9,4,5,6,1,2,6])\n",
    "print(f\"Unique elements:{np.unique(arr)}\")"
   ]
  },
  {
   "cell_type": "code",
   "execution_count": 18,
   "id": "4ecd64be-4aac-4d6e-a4c9-23249ecc6964",
   "metadata": {},
   "outputs": [
    {
     "name": "stdout",
     "output_type": "stream",
     "text": [
      "Transposed Array:\n",
      "[[1 9]\n",
      " [2 4]\n",
      " [3 5]]\n"
     ]
    }
   ],
   "source": [
    "## TRANSPOSE: Swap the axes of an array.\n",
    "\n",
    "arr=np.array([[1,2,3],[9,4,5]])\n",
    "print(f\"Transposed Array:\")\n",
    "print(arr.T)"
   ]
  },
  {
   "cell_type": "code",
   "execution_count": 19,
   "id": "5718dc71-f28d-4e2f-9ba4-1f73ca5a3e80",
   "metadata": {},
   "outputs": [
    {
     "name": "stdout",
     "output_type": "stream",
     "text": [
      "Contenated Array : [ 1  2  3  7  8  9 10]\n"
     ]
    }
   ],
   "source": [
    "## CONCATENATION: Join arrays together.\n",
    "\n",
    "arr1=np.array([1,2,3])\n",
    "arr2=np.array([7,8,9,10])\n",
    "print(f\"Contenated Array : {np.concatenate((arr1,arr2))}\")"
   ]
  },
  {
   "cell_type": "code",
   "execution_count": 20,
   "id": "be9fbc1e-7259-4f75-80a8-567d47a1b888",
   "metadata": {},
   "outputs": [
    {
     "name": "stdout",
     "output_type": "stream",
     "text": [
      "Sorted Array : [21 43 52 54 60 65 77 78 98]\n"
     ]
    }
   ],
   "source": [
    "## SORTING ELEMENTS: Sort elements of an array.\n",
    "\n",
    "arr=np.array([52,98,65,43,21,78,60,77,54])\n",
    "print(f\"Sorted Array : {np.sort(arr)}\")"
   ]
  },
  {
   "cell_type": "code",
   "execution_count": 21,
   "id": "afa9a6b8-b250-4d13-a3ca-38e5bad225a0",
   "metadata": {},
   "outputs": [
    {
     "name": "stdout",
     "output_type": "stream",
     "text": [
      "Sliced Array : [[2]]\n"
     ]
    }
   ],
   "source": [
    "## INDEXING and SLICING: Selects specific elements or subsets of an array.\n",
    "\n",
    "arr=np.array([[1,2],[3,4]])\n",
    "sliced_arr=arr[0:1,1:2]\n",
    "print(f\"Sliced Array : {sliced_arr}\")"
   ]
  },
  {
   "cell_type": "code",
   "execution_count": 22,
   "id": "c20dfcb4-9487-41f9-8a49-a753d2a0abd2",
   "metadata": {},
   "outputs": [
    {
     "name": "stdout",
     "output_type": "stream",
     "text": [
      "splits to 4 equal parts\n",
      "Splitted Array: [array([1, 2]), array([3, 4]), array([5, 6]), array([7, 8])]\n",
      "splits to 2 equal parts\n",
      "Splitted Array: [array([1, 2, 3, 4]), array([5, 6, 7, 8])]\n"
     ]
    }
   ],
   "source": [
    "## SPLITING: Splits an array into multiple sub arrays.\n",
    "\n",
    "arr=np.array([1,2,3,4,5,6,7,8])\n",
    "print(\"splits to 4 equal parts\")\n",
    "print(f\"Splitted Array: {np.split(arr,4)}\")\n",
    "print(\"splits to 2 equal parts\")\n",
    "print(f\"Splitted Array: {np.split(arr,2)}\")"
   ]
  },
  {
   "cell_type": "markdown",
   "id": "01561c83-f8d1-4d3b-9cbd-eb2ed5c31549",
   "metadata": {},
   "source": [
    " "
   ]
  },
  {
   "cell_type": "markdown",
   "id": "bab95ae3-1cd9-4264-91bd-95e81f0bbca5",
   "metadata": {},
   "source": [
    "### Aggregate data using NumPy"
   ]
  },
  {
   "cell_type": "code",
   "execution_count": 23,
   "id": "93dd2150-7119-4e46-9865-515216df8956",
   "metadata": {},
   "outputs": [],
   "source": [
    "data = np.array([15,20,25,30,35,40,45,50])"
   ]
  },
  {
   "cell_type": "code",
   "execution_count": 24,
   "id": "205498cc-d029-40d4-a28b-3bc8165bcbda",
   "metadata": {},
   "outputs": [
    {
     "name": "stdout",
     "output_type": "stream",
     "text": [
      "Sum: 260\n"
     ]
    }
   ],
   "source": [
    "#you can find the sum of all the elements in the array by using sum() function\n",
    "print(f\"Sum: {np.sum(data)}\")"
   ]
  },
  {
   "cell_type": "code",
   "execution_count": 25,
   "id": "27639910-374f-4f55-b27c-56fe84643b76",
   "metadata": {},
   "outputs": [
    {
     "name": "stdout",
     "output_type": "stream",
     "text": [
      "Mean: 32.5\n"
     ]
    }
   ],
   "source": [
    "#you can find the mean of all the elements in the array by using mean() function\n",
    "print(f\"Mean: {np.mean(data)}\")"
   ]
  },
  {
   "cell_type": "code",
   "execution_count": 26,
   "id": "72593521-97f8-4d2a-8b7a-70cc5de5f555",
   "metadata": {},
   "outputs": [
    {
     "name": "stdout",
     "output_type": "stream",
     "text": [
      "Median: 32.5\n"
     ]
    }
   ],
   "source": [
    "#you can find the median of all the elements in the array by using median() function\n",
    "print(f\"Median: {np.median(data)}\")"
   ]
  },
  {
   "cell_type": "code",
   "execution_count": 27,
   "id": "028fe784-7d47-4629-9c74-cae42b3df693",
   "metadata": {},
   "outputs": [
    {
     "name": "stdout",
     "output_type": "stream",
     "text": [
      "Standarad deviation: 11.4564392373896\n"
     ]
    }
   ],
   "source": [
    "#you can find the Standarad deviation of all the elements in the array by using std() function\n",
    "print(f\"Standarad deviation: {np.std(data)}\")"
   ]
  },
  {
   "cell_type": "code",
   "execution_count": 28,
   "id": "f80ee35f-9b70-487e-a43b-537586d0ba23",
   "metadata": {},
   "outputs": [
    {
     "name": "stdout",
     "output_type": "stream",
     "text": [
      "Minimum element: 15\n"
     ]
    }
   ],
   "source": [
    "#you can find the Minimum element of all the elements in the array by using min() function\n",
    "print(f\"Minimum element: {np.min(data)}\")"
   ]
  },
  {
   "cell_type": "code",
   "execution_count": 29,
   "id": "218a0595-453b-4af7-9bcf-6549e188d0ee",
   "metadata": {},
   "outputs": [
    {
     "name": "stdout",
     "output_type": "stream",
     "text": [
      "Maximum element: 50\n"
     ]
    }
   ],
   "source": [
    "#you can find the Maximum element: of all the elements in the array by using max() function\n",
    "print(f\"Maximum element: {np.max(data)}\")"
   ]
  },
  {
   "cell_type": "markdown",
   "id": "192e122a-67d0-41a5-871d-40a60b2da691",
   "metadata": {},
   "source": [
    "  "
   ]
  },
  {
   "cell_type": "markdown",
   "id": "645aaede-437b-4c24-9aac-7dc6d73753d7",
   "metadata": {},
   "source": [
    "### Analyze data using NumPy"
   ]
  },
  {
   "cell_type": "code",
   "execution_count": 30,
   "id": "cf960aae-33d5-4316-9505-6dba823c5ede",
   "metadata": {},
   "outputs": [],
   "source": [
    "data=[85, 90, 78, 92, 88, 76,np.NaN, 95, 89, 84, 90]"
   ]
  },
  {
   "cell_type": "code",
   "execution_count": 31,
   "id": "d179a25c-69bd-484f-b57e-cac513387574",
   "metadata": {},
   "outputs": [],
   "source": [
    "scores=np.array(data)"
   ]
  },
  {
   "cell_type": "code",
   "execution_count": 32,
   "id": "38894c04-ba7f-43e9-89a3-9acc972215aa",
   "metadata": {},
   "outputs": [
    {
     "data": {
      "text/plain": [
       "array([85., 90., 78., 92., 88., 76., nan, 95., 89., 84., 90.])"
      ]
     },
     "execution_count": 32,
     "metadata": {},
     "output_type": "execute_result"
    }
   ],
   "source": [
    "scores"
   ]
  },
  {
   "cell_type": "code",
   "execution_count": 33,
   "id": "c78455d0-6b88-449c-a902-3cc9c3c6e076",
   "metadata": {},
   "outputs": [],
   "source": [
    "#Handling missing data\n",
    "scores = np.nan_to_num(scores, nan=75)"
   ]
  },
  {
   "cell_type": "code",
   "execution_count": 34,
   "id": "361f7e69-f3c7-455a-bab7-ad4633d52c5d",
   "metadata": {},
   "outputs": [
    {
     "name": "stdout",
     "output_type": "stream",
     "text": [
      "Highest score in Python : 95.0\n"
     ]
    }
   ],
   "source": [
    "print(f\"Highest score in Python : {np.max(scores)}\")"
   ]
  },
  {
   "cell_type": "code",
   "execution_count": 35,
   "id": "9d749813-0b83-4064-8c13-b8544706597a",
   "metadata": {},
   "outputs": [
    {
     "name": "stdout",
     "output_type": "stream",
     "text": [
      "Least score in Python : 75.0\n"
     ]
    }
   ],
   "source": [
    "print(f\"Least score in Python : {np.min(scores)}\")"
   ]
  },
  {
   "cell_type": "code",
   "execution_count": 36,
   "id": "3c725374-f151-4e08-a7d8-de98716601c4",
   "metadata": {},
   "outputs": [
    {
     "name": "stdout",
     "output_type": "stream",
     "text": [
      "Average score in Python : 85.63636363636364\n"
     ]
    }
   ],
   "source": [
    "print(f\"Average score in Python : {np.average(scores)}\")"
   ]
  },
  {
   "cell_type": "code",
   "execution_count": 37,
   "id": "2854ac17-f097-4207-abe6-2c44d5803883",
   "metadata": {},
   "outputs": [
    {
     "data": {
      "text/plain": [
       "array([90., 92., 88., 95., 89., 90.])"
      ]
     },
     "execution_count": 37,
     "metadata": {},
     "output_type": "execute_result"
    }
   ],
   "source": [
    "#Filter data\n",
    "filtered_data = scores[scores > 85]\n",
    "filtered_data "
   ]
  },
  {
   "cell_type": "markdown",
   "id": "1dfdccaa-6f9e-493e-bd49-ba57bfea6ded",
   "metadata": {},
   "source": [
    "### Conclusion"
   ]
  },
  {
   "cell_type": "markdown",
   "id": "4a467341-03bf-41d0-a39a-b4cac173d432",
   "metadata": {},
   "source": [
    "The notebook provides a comprehensive overview of NumPy, focusing on its array manipulation capabilities and its use for various mathematical and statistical operations. It is a helpful guide for anyone looking to understand the basics and some advanced functionalities of NumPy. The examples cover a wide range of applications, demonstrating the versatility and power of NumPy in data science and numerical computing tasks."
   ]
  }
 ],
 "metadata": {
  "kernelspec": {
   "display_name": "Python 3 (ipykernel)",
   "language": "python",
   "name": "python3"
  },
  "language_info": {
   "codemirror_mode": {
    "name": "ipython",
    "version": 3
   },
   "file_extension": ".py",
   "mimetype": "text/x-python",
   "name": "python",
   "nbconvert_exporter": "python",
   "pygments_lexer": "ipython3",
   "version": "3.11.7"
  }
 },
 "nbformat": 4,
 "nbformat_minor": 5
}
